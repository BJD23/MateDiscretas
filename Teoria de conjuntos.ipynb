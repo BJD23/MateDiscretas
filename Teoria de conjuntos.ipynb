{
 "cells": [
  {
   "cell_type": "markdown",
   "id": "c3dc8cb5-597f-4e33-8e4d-b650fbf1a5e6",
   "metadata": {},
   "source": [
    "# Teoría de Conjuntos"
   ]
  },
  {
   "cell_type": "markdown",
   "id": "3425810c-6a00-4657-ab9f-70cdb6c42376",
   "metadata": {},
   "source": [
    "La teoría de conjuntos es una rama de la lógica matemática que estudia las propiedades y relaciones de los conjuntos: colecciones abstractas de objetos, consideradas como objetos en sí mismas.\n",
    "\n",
    "Los conjuntos y sus operaciones más elementales son una herramienta básica que permite formular de cualquier otra teoría matemática.\n",
    "\n",
    "La teoría de los conjuntos es lo suficientemente flexible y general como para construir el resto de objetos y estructuras de interés en matemáticas: números, funciones, figuras geométricas, etc; gracias a las herramientas de la lógica, permite estudiar los fundamentos.\n",
    "\n",
    "Además, la propia teoría de conjuntos es objeto de estudio per se, no solo como herramienta auxiliar, en particular las propiedades y relaciones de los conjuntos infinitos. En esta disciplina es habitual que se presenten casos de propiedades indemostrables o contradictorias, como la hipótesis del continuo o la existencia de algún cardinal inaccesible. Por esta razón, sus razonamientos y técnicas se apoyan en gran medida en la lógica matemática."
   ]
  },
  {
   "cell_type": "markdown",
   "id": "78d52b96-037c-44c9-830a-9c0ad8a21cd4",
   "metadata": {},
   "source": [
    "## Introducción a Conjuntos"
   ]
  },
  {
   "cell_type": "markdown",
   "id": "41a41133-a1ae-4501-bea5-828f1991db1b",
   "metadata": {},
   "source": [
    "Un conjunto es una colección no ordenada de objetos distintos. En Python, los conjuntos se pueden crear utilizando llaves `{}` o la función `set()`.\n",
    "\n",
    "Ejemplo de creación de un conjunto en Python:"
   ]
  },
  {
   "cell_type": "code",
   "execution_count": 16,
   "id": "ab2bfb12-3008-4d1d-a8e7-c43a75c98a95",
   "metadata": {},
   "outputs": [],
   "source": [
    "conjunto = {1, 2, 3, 4, 5}"
   ]
  },
  {
   "cell_type": "code",
   "execution_count": 18,
   "id": "d913d2cf-53f3-4245-a201-7bf7499be88b",
   "metadata": {},
   "outputs": [
    {
     "name": "stdout",
     "output_type": "stream",
     "text": [
      "{1, 2, 3, 4, 5}\n"
     ]
    }
   ],
   "source": [
    "print(conjunto)"
   ]
  },
  {
   "cell_type": "markdown",
   "id": "682fb1f2-e035-4146-afe6-c1279bf4b4f2",
   "metadata": {},
   "source": [
    "## Operaciones con Conjuntos"
   ]
  },
  {
   "cell_type": "markdown",
   "id": "681c0743-d902-474d-a600-58157e6602a0",
   "metadata": {},
   "source": [
    "### Unión de Conjuntos"
   ]
  },
  {
   "cell_type": "markdown",
   "id": "ca44c036-c1cd-460a-98db-81324039e404",
   "metadata": {},
   "source": [
    "La unión de dos conjuntos devuelve un nuevo conjunto que contiene todos los elementos presentes en ambos conjuntos.\r\n",
    "\r\n",
    "La unión de conjuntos en Python se puede realizar utilizando el operador | o el método union().\r\n",
    "\r\n",
    "Ejemplo de unión de conjuntos en Python:"
   ]
  },
  {
   "cell_type": "code",
   "execution_count": 26,
   "id": "3798c7fe-6dc2-48c8-985d-32623cd805a5",
   "metadata": {},
   "outputs": [],
   "source": [
    "conjunto1 = {1, 2, 3}"
   ]
  },
  {
   "cell_type": "code",
   "execution_count": 28,
   "id": "97dda990-8a12-40ca-8e9c-e1981ef35343",
   "metadata": {},
   "outputs": [],
   "source": [
    "conjunto2 = {3, 4, 5}"
   ]
  },
  {
   "cell_type": "code",
   "execution_count": 30,
   "id": "a0e68a8f-4d2e-42c3-a3f6-e6e2b57537a2",
   "metadata": {},
   "outputs": [],
   "source": [
    "union = conjunto1 | conjunto2"
   ]
  },
  {
   "cell_type": "code",
   "execution_count": 34,
   "id": "5a29061b-acbd-4aca-baa6-65c0e5666444",
   "metadata": {},
   "outputs": [
    {
     "name": "stdout",
     "output_type": "stream",
     "text": [
      "{1, 2, 3, 4, 5}\n"
     ]
    }
   ],
   "source": [
    "print(union)"
   ]
  },
  {
   "cell_type": "markdown",
   "id": "45cd72cd-67e6-481a-b309-8f57b748e0d6",
   "metadata": {},
   "source": [
    "### Intersección de Conjuntos"
   ]
  },
  {
   "cell_type": "markdown",
   "id": "b4d5285a-f7fc-4aec-b56d-c6e70f62a8bf",
   "metadata": {},
   "source": [
    "La intersección de dos conjuntos devuelve un nuevo conjunto que contiene todos los elementos que son comunes a ambos conjuntos.\n",
    "\n",
    "La intersección de conjuntos en Python se puede realizar utilizando el operador & o el método intersection().\r\n",
    "\r\n",
    "Ejemplo de intersección de conjuntos en Python:"
   ]
  },
  {
   "cell_type": "code",
   "execution_count": 65,
   "id": "e51061e0-f96e-4315-86d4-1fdecb9d06f7",
   "metadata": {},
   "outputs": [],
   "source": [
    "conjunto1 = {1, 2, 3}"
   ]
  },
  {
   "cell_type": "code",
   "execution_count": 67,
   "id": "d2f369d7-c7d3-439c-8ff5-48d3a0a2b02e",
   "metadata": {},
   "outputs": [],
   "source": [
    "conjunto2 = {3, 4, 5}"
   ]
  },
  {
   "cell_type": "code",
   "execution_count": 69,
   "id": "017976ea-04a6-497c-9bd7-1134e53bc1c4",
   "metadata": {},
   "outputs": [],
   "source": [
    "interseccion = conjunto1 & conjunto2"
   ]
  },
  {
   "cell_type": "code",
   "execution_count": 71,
   "id": "cc3464a1-7ba8-4695-9ca3-5d051eba293e",
   "metadata": {},
   "outputs": [
    {
     "name": "stdout",
     "output_type": "stream",
     "text": [
      "{3}\n"
     ]
    }
   ],
   "source": [
    "print(interseccion)"
   ]
  },
  {
   "cell_type": "markdown",
   "id": "3ec7b258-0d64-4e41-9b67-9da4d2b1d52f",
   "metadata": {},
   "source": [
    "## Notación de Conjuntos"
   ]
  },
  {
   "cell_type": "markdown",
   "id": "8022962e-2207-44c7-b154-bee1f70e7964",
   "metadata": {},
   "source": [
    "La notación de conjuntos es una forma de representar conjuntos utilizando símbolos y operaciones matemáticas. La notación de conjuntos se puede expresar utilizando LaTeX.\r\n",
    "\r\n",
    "Por ejemplo, el conjunto de números naturales se puede representar como $\\mathbb{N} = {1, 2, 3, ...}$."
   ]
  },
  {
   "cell_type": "markdown",
   "id": "7a91e7b5-07e4-4597-93f9-5e35c72af84e",
   "metadata": {},
   "source": [
    "## Diagramas de Venn"
   ]
  },
  {
   "cell_type": "markdown",
   "id": "6f02ca11-b410-4810-b313-112fca852dd7",
   "metadata": {},
   "source": [
    "Los diagramas de Venn son representaciones visuales de conjuntos y sus relaciones. Los conjuntos se representan como regiones en un plano, y las relaciones entre los conjuntos se muestran mediante la superposición de estas regiones."
   ]
  },
  {
   "cell_type": "markdown",
   "id": "60969d6e-bac2-468b-9670-48221c7eab35",
   "metadata": {},
   "source": [
    "### Diagrama de Venn de 2 Conjuntos"
   ]
  },
  {
   "cell_type": "markdown",
   "id": "528401b2-23bc-4288-a943-642edd99df18",
   "metadata": {},
   "source": [
    "En un diagrama de Venn de 2 conjuntos, se representan dos conjuntos y su intersección."
   ]
  },
  {
   "cell_type": "code",
   "execution_count": 1,
   "id": "8c140d6a-6e19-4064-ab38-d22b3cd585bf",
   "metadata": {},
   "outputs": [
    {
     "name": "stdout",
     "output_type": "stream",
     "text": [
      "Defaulting to user installation because normal site-packages is not writeable\n",
      "Looking in links: /usr/share/pip-wheels\n",
      "Requirement already satisfied: matplotlib-venn in ./.local/lib/python3.11/site-packages (0.11.10)\n",
      "Requirement already satisfied: matplotlib in /opt/conda/envs/anaconda-panel-2023.05-py310/lib/python3.11/site-packages (from matplotlib-venn) (3.7.2)\n",
      "Requirement already satisfied: numpy in /opt/conda/envs/anaconda-panel-2023.05-py310/lib/python3.11/site-packages (from matplotlib-venn) (1.24.3)\n",
      "Requirement already satisfied: scipy in /opt/conda/envs/anaconda-panel-2023.05-py310/lib/python3.11/site-packages (from matplotlib-venn) (1.11.1)\n",
      "Requirement already satisfied: contourpy>=1.0.1 in /opt/conda/envs/anaconda-panel-2023.05-py310/lib/python3.11/site-packages (from matplotlib->matplotlib-venn) (1.0.5)\n",
      "Requirement already satisfied: cycler>=0.10 in /opt/conda/envs/anaconda-panel-2023.05-py310/lib/python3.11/site-packages (from matplotlib->matplotlib-venn) (0.11.0)\n",
      "Requirement already satisfied: fonttools>=4.22.0 in /opt/conda/envs/anaconda-panel-2023.05-py310/lib/python3.11/site-packages (from matplotlib->matplotlib-venn) (4.25.0)\n",
      "Requirement already satisfied: kiwisolver>=1.0.1 in /opt/conda/envs/anaconda-panel-2023.05-py310/lib/python3.11/site-packages (from matplotlib->matplotlib-venn) (1.4.4)\n",
      "Requirement already satisfied: packaging>=20.0 in /opt/conda/envs/anaconda-panel-2023.05-py310/lib/python3.11/site-packages (from matplotlib->matplotlib-venn) (23.1)\n",
      "Requirement already satisfied: pillow>=6.2.0 in /opt/conda/envs/anaconda-panel-2023.05-py310/lib/python3.11/site-packages (from matplotlib->matplotlib-venn) (9.4.0)\n",
      "Requirement already satisfied: pyparsing<3.1,>=2.3.1 in /opt/conda/envs/anaconda-panel-2023.05-py310/lib/python3.11/site-packages (from matplotlib->matplotlib-venn) (3.0.9)\n",
      "Requirement already satisfied: python-dateutil>=2.7 in /opt/conda/envs/anaconda-panel-2023.05-py310/lib/python3.11/site-packages (from matplotlib->matplotlib-venn) (2.8.2)\n",
      "Requirement already satisfied: six>=1.5 in /opt/conda/envs/anaconda-panel-2023.05-py310/lib/python3.11/site-packages (from python-dateutil>=2.7->matplotlib->matplotlib-venn) (1.16.0)\n",
      "Note: you may need to restart the kernel to use updated packages.\n"
     ]
    }
   ],
   "source": [
    "pip install matplotlib-venn"
   ]
  },
  {
   "cell_type": "code",
   "execution_count": 3,
   "id": "f648481d-fdd6-44f0-8bca-0d5e40e2647e",
   "metadata": {},
   "outputs": [],
   "source": [
    "from matplotlib_venn import venn2"
   ]
  },
  {
   "cell_type": "code",
   "execution_count": 5,
   "id": "5c46150c-1115-4ce1-883c-b5dbdaf1bfa2",
   "metadata": {},
   "outputs": [],
   "source": [
    "import matplotlib.pyplot as plt"
   ]
  },
  {
   "cell_type": "code",
   "execution_count": 17,
   "id": "1e4d2085-9385-436e-842d-0f75483d4dd2",
   "metadata": {},
   "outputs": [
    {
     "data": {
      "image/png": "[encoded data removed]",
      "text/plain": [
       "<Figure size 640x480 with 1 Axes>"
      ]
     },
     "metadata": {},
     "output_type": "display_data"
    }
   ],
   "source": [
    "venn2(subsets=(3, 2, 1))\n",
    "plt.title(\"Diagrama de Venn de 2 Conjuntos\")\n",
    "plt.show()"
   ]
  },
  {
   "cell_type": "markdown",
   "id": "15cbeb67-6aa2-4cb0-ad8d-a0ca4c86f17d",
   "metadata": {},
   "source": [
    "### Diagrama de Venn de 3 Conjuntos"
   ]
  },
  {
   "cell_type": "markdown",
   "id": "97184f1b-45ac-4794-aff4-7183e0295f19",
   "metadata": {},
   "source": [
    "En un diagrama de Venn de 3 conjuntos, se representan tres conjuntos y sus intersecciones."
   ]
  },
  {
   "cell_type": "code",
   "execution_count": 23,
   "id": "ce4b8d4a-e094-4ecb-88fc-023ff36eb444",
   "metadata": {},
   "outputs": [],
   "source": [
    "from matplotlib_venn import venn3"
   ]
  },
  {
   "cell_type": "code",
   "execution_count": 25,
   "id": "d6149156-6940-4509-a875-d7c11b48d3a6",
   "metadata": {},
   "outputs": [],
   "source": [
    "import matplotlib.pyplot as plt"
   ]
  },
  {
   "cell_type": "code",
   "execution_count": 27,
   "id": "2a32a3c6-25d4-4b28-a86b-9b98d33387fe",
   "metadata": {},
   "outputs": [
    {
     "data": {
      "image/png": "[encoded data removed]",
      "text/plain": [
       "<Figure size 640x480 with 1 Axes>"
      ]
     },
     "metadata": {},
     "output_type": "display_data"
    }
   ],
   "source": [
    "venn3(subsets=(2, 2, 1, 2, 1, 1, 1))\n",
    "plt.title(\"Diagrama de Venn de 3 Conjuntos\")\n",
    "plt.show()"
   ]
  },
  {
   "cell_type": "code",
   "execution_count": null,
   "id": "8ad76623-6f18-4925-9cac-ba659cc9b6dc",
   "metadata": {},
   "outputs": [],
   "source": []
  }
 ],
 "metadata": {
  "kernelspec": {
   "display_name": "anaconda-panel-2023.05-py310",
   "language": "python",
   "name": "conda-env-anaconda-panel-2023.05-py310-py"
  },
  "language_info": {
   "codemirror_mode": {
    "name": "ipython",
    "version": 3
   },
   "file_extension": ".py",
   "mimetype": "text/x-python",
   "name": "python",
   "nbconvert_exporter": "python",
   "pygments_lexer": "ipython3",
   "version": "3.11.5"
  }
 },
 "nbformat": 4,
 "nbformat_minor": 5
}
